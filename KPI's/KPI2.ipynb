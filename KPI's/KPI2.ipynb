{
 "cells": [
  {
   "cell_type": "markdown",
   "metadata": {},
   "source": [
    "L’évolution de la durée moyenne des films au fil des années."
   ]
  },
  {
   "cell_type": "code",
   "execution_count": 48,
   "metadata": {},
   "outputs": [],
   "source": [
    "# IMPORTS\n",
    "\n",
    "import pandas as pd\n",
    "import numpy as np"
   ]
  },
  {
   "cell_type": "code",
   "execution_count": 49,
   "metadata": {},
   "outputs": [
    {
     "name": "stderr",
     "output_type": "stream",
     "text": [
      "/var/folders/2b/18xblx_n4lv24wz932vjckrm0000gp/T/ipykernel_7986/581862119.py:3: DtypeWarning: Columns (4) have mixed types. Specify dtype option on import or set low_memory=False.\n",
      "  df_film = pd.read_csv('BD/title.basics.tsv.gz', compression = 'gzip', sep = '\\t')\n",
      "/var/folders/2b/18xblx_n4lv24wz932vjckrm0000gp/T/ipykernel_7986/581862119.py:4: DtypeWarning: Columns (24) have mixed types. Specify dtype option on import or set low_memory=False.\n",
      "  df_tmdb_full = pd.read_csv(\"BD/tmdb_full.csv\")\n"
     ]
    }
   ],
   "source": [
    "# BASES\n",
    "\n",
    "df_film = pd.read_csv('BD/title.basics.tsv.gz', compression = 'gzip', sep = '\\t')\n",
    "df_tmdb_full = pd.read_csv(\"BD/tmdb_full.csv\")"
   ]
  },
  {
   "cell_type": "code",
   "execution_count": 50,
   "metadata": {},
   "outputs": [
    {
     "name": "stderr",
     "output_type": "stream",
     "text": [
      "/var/folders/2b/18xblx_n4lv24wz932vjckrm0000gp/T/ipykernel_7986/3789554848.py:4: FutureWarning: A value is trying to be set on a copy of a DataFrame or Series through chained assignment using an inplace method.\n",
      "The behavior will change in pandas 3.0. This inplace method will never work because the intermediate object on which we are setting values always behaves as a copy.\n",
      "\n",
      "For example, when doing 'df[col].method(value, inplace=True)', try using 'df.method({col: value}, inplace=True)' or df[col] = df[col].method(value) instead, to perform the operation inplace on the original object.\n",
      "\n",
      "\n",
      "  df_film['runtimeMinutes'].replace('\\\\N', np.nan, inplace = True)\n",
      "/var/folders/2b/18xblx_n4lv24wz932vjckrm0000gp/T/ipykernel_7986/3789554848.py:6: FutureWarning: A value is trying to be set on a copy of a DataFrame or Series through chained assignment using an inplace method.\n",
      "The behavior will change in pandas 3.0. This inplace method will never work because the intermediate object on which we are setting values always behaves as a copy.\n",
      "\n",
      "For example, when doing 'df[col].method(value, inplace=True)', try using 'df.method({col: value}, inplace=True)' or df[col] = df[col].method(value) instead, to perform the operation inplace on the original object.\n",
      "\n",
      "\n",
      "  df_tmdb_full['runtime'].replace('\\\\N', np.nan, inplace = True)\n"
     ]
    }
   ],
   "source": [
    "# Clean des tables\n",
    "\n",
    "df_film = df_film[df_film['titleType'] == 'movie']\n",
    "df_film['runtimeMinutes'].replace('\\\\N', np.nan, inplace = True)\n",
    "df_film['runtimeMinutes'] = pd.to_numeric(df_film['runtimeMinutes'])\n",
    "df_tmdb_full['runtime'].replace('\\\\N', np.nan, inplace = True)"
   ]
  },
  {
   "cell_type": "code",
   "execution_count": 51,
   "metadata": {},
   "outputs": [],
   "source": [
    "# MERGE\n",
    " \n",
    "df_merge = pd.merge(df_film,\n",
    "                    df_tmdb_full,\n",
    "                    how = 'outer',\n",
    "                    left_on = 'tconst',\n",
    "                    right_on = 'imdb_id')"
   ]
  },
  {
   "cell_type": "code",
   "execution_count": 52,
   "metadata": {},
   "outputs": [],
   "source": [
    "# Clean du Merge\n",
    "\n",
    "df_merge = df_merge[~((df_merge['runtimeMinutes'].isna()) & (df_merge['runtime'].isna()))]\n",
    "df_merge = df_merge[~((df_merge['runtimeMinutes'] == 0) & (df_merge['runtime'] == 0))]\n",
    "df_merge = df_merge[~((df_merge['runtimeMinutes'] == 0) & (df_merge['runtime'].isna()))]\n",
    "df_merge = df_merge[~((df_merge['runtimeMinutes'].isna()) & (df_merge['runtime'] == 0))]\n",
    "\n",
    "# On transforme les types de données\n",
    "\n",
    "df_merge['release_date'] = pd.to_datetime(df_merge['release_date'])\n",
    "df_merge['release_date'] = df_merge['release_date'].replace('\\\\N', 0)\n",
    "df_merge['release_date_year'] = df_merge['release_date'].dt.year\n",
    "df_merge['startYear'] = df_merge['startYear'].replace('\\\\N', 0)\n",
    "df_merge['startYear'] = pd.to_numeric(df_merge['startYear'], downcast=\"integer\")\n",
    "\n",
    "# On crée la colonne year_exact\n",
    "\n",
    "df_merge['year_exact'] = df_merge[['release_date_year', 'startYear']].max(axis = 1)\n",
    "\n",
    "# On supprime là où la donnée de yearexact est manquante\n",
    "\n",
    "df_merge = df_merge[~(df_merge['year_exact'].isna())]\n",
    "df_merge = df_merge[~(df_merge['year_exact'] == 0)]"
   ]
  },
  {
   "cell_type": "code",
   "execution_count": 53,
   "metadata": {},
   "outputs": [],
   "source": [
    "# Calcul différence de runtime des 2 tables\n",
    "\n",
    "df_merge['difference_runtime'] = abs(df_merge['runtime'] - df_merge['runtimeMinutes'])"
   ]
  },
  {
   "cell_type": "code",
   "execution_count": 54,
   "metadata": {},
   "outputs": [
    {
     "name": "stderr",
     "output_type": "stream",
     "text": [
      "/var/folders/2b/18xblx_n4lv24wz932vjckrm0000gp/T/ipykernel_7986/2474496667.py:6: SettingWithCopyWarning: \n",
      "A value is trying to be set on a copy of a slice from a DataFrame.\n",
      "Try using .loc[row_indexer,col_indexer] = value instead\n",
      "\n",
      "See the caveats in the documentation: https://pandas.pydata.org/pandas-docs/stable/user_guide/indexing.html#returning-a-view-versus-a-copy\n",
      "  df_a_garder_1['runtime_exact'] = df_a_garder_1['runtimeMinutes']\n"
     ]
    }
   ],
   "source": [
    "# On met de côté là où les 2 valeurs sont identiques\n",
    "\n",
    "df_a_garder_1 = df_merge[(df_merge['runtimeMinutes'] == df_merge['runtime'])]\n",
    "\n",
    "# Création colonne RuntimeExact\n",
    "df_a_garder_1['runtime_exact'] = df_a_garder_1['runtimeMinutes']"
   ]
  },
  {
   "cell_type": "code",
   "execution_count": 55,
   "metadata": {},
   "outputs": [],
   "source": [
    "df_a_travailler_1 = df_merge[~(df_merge['runtimeMinutes'] == df_merge['runtime'])]"
   ]
  },
  {
   "cell_type": "code",
   "execution_count": 56,
   "metadata": {},
   "outputs": [
    {
     "name": "stderr",
     "output_type": "stream",
     "text": [
      "/var/folders/2b/18xblx_n4lv24wz932vjckrm0000gp/T/ipykernel_7986/3836658668.py:7: SettingWithCopyWarning: \n",
      "A value is trying to be set on a copy of a slice from a DataFrame.\n",
      "Try using .loc[row_indexer,col_indexer] = value instead\n",
      "\n",
      "See the caveats in the documentation: https://pandas.pydata.org/pandas-docs/stable/user_guide/indexing.html#returning-a-view-versus-a-copy\n",
      "  df_a_garder_2['runtime_exact'] = df_a_garder_2[['runtimeMinutes', 'runtime']].max(axis = 1)\n"
     ]
    }
   ],
   "source": [
    "# On met de côté là où une valeur manque seulement\n",
    "\n",
    "df_a_garder_2 = df_a_travailler_1[((df_a_travailler_1['runtimeMinutes'].isna()) | (df_a_travailler_1['runtime'].isna())| (df_a_travailler_1['runtime'] == 0) | (df_a_travailler_1['runtimeMinutes'] == 0))]\n",
    "\n",
    "# On conserve la donnée existante\n",
    "\n",
    "df_a_garder_2['runtime_exact'] = df_a_garder_2[['runtimeMinutes', 'runtime']].max(axis = 1)"
   ]
  },
  {
   "cell_type": "code",
   "execution_count": 57,
   "metadata": {},
   "outputs": [],
   "source": [
    "df_a_travailler_2 = df_a_travailler_1[~((df_a_travailler_1['runtimeMinutes'].isna()) | (df_a_travailler_1['runtime'].isna())| (df_a_travailler_1['runtime'] == 0) | (df_a_travailler_1['runtimeMinutes'] == 0))]"
   ]
  },
  {
   "cell_type": "code",
   "execution_count": 58,
   "metadata": {},
   "outputs": [
    {
     "name": "stderr",
     "output_type": "stream",
     "text": [
      "/var/folders/2b/18xblx_n4lv24wz932vjckrm0000gp/T/ipykernel_7986/1682368460.py:1: SettingWithCopyWarning: \n",
      "A value is trying to be set on a copy of a slice from a DataFrame.\n",
      "Try using .loc[row_indexer,col_indexer] = value instead\n",
      "\n",
      "See the caveats in the documentation: https://pandas.pydata.org/pandas-docs/stable/user_guide/indexing.html#returning-a-view-versus-a-copy\n",
      "  df_a_travailler_2['difference_runtime'] = abs(df_a_travailler_2['runtime'] - df_a_travailler_2['runtimeMinutes'])\n"
     ]
    }
   ],
   "source": [
    "df_a_travailler_2['difference_runtime'] = abs(df_a_travailler_2['runtime'] - df_a_travailler_2['runtimeMinutes'])"
   ]
  },
  {
   "cell_type": "code",
   "execution_count": 59,
   "metadata": {},
   "outputs": [
    {
     "name": "stderr",
     "output_type": "stream",
     "text": [
      "/var/folders/2b/18xblx_n4lv24wz932vjckrm0000gp/T/ipykernel_7986/3265874609.py:7: SettingWithCopyWarning: \n",
      "A value is trying to be set on a copy of a slice from a DataFrame.\n",
      "Try using .loc[row_indexer,col_indexer] = value instead\n",
      "\n",
      "See the caveats in the documentation: https://pandas.pydata.org/pandas-docs/stable/user_guide/indexing.html#returning-a-view-versus-a-copy\n",
      "  df_a_garder_3['runtime_exact'] = df_a_garder_3[['runtimeMinutes', 'runtime']].max(axis = 1)\n"
     ]
    }
   ],
   "source": [
    "# On met de côté là où la différence de durée est négligeable\n",
    "\n",
    "df_a_garder_3 = df_a_travailler_2[df_a_travailler_2['difference_runtime'] <= 20]\n",
    "\n",
    "# On prend comme base la valeur max des 2 colonnes\n",
    "\n",
    "df_a_garder_3['runtime_exact'] = df_a_garder_3[['runtimeMinutes', 'runtime']].max(axis = 1)"
   ]
  },
  {
   "cell_type": "code",
   "execution_count": 60,
   "metadata": {},
   "outputs": [],
   "source": [
    "df_a_travailler_3 = df_a_travailler_2[~(df_a_travailler_2['difference_runtime'] <= 20)]"
   ]
  },
  {
   "cell_type": "code",
   "execution_count": 61,
   "metadata": {},
   "outputs": [
    {
     "name": "stderr",
     "output_type": "stream",
     "text": [
      "/var/folders/2b/18xblx_n4lv24wz932vjckrm0000gp/T/ipykernel_7986/264539281.py:3: SettingWithCopyWarning: \n",
      "A value is trying to be set on a copy of a slice from a DataFrame.\n",
      "Try using .loc[row_indexer,col_indexer] = value instead\n",
      "\n",
      "See the caveats in the documentation: https://pandas.pydata.org/pandas-docs/stable/user_guide/indexing.html#returning-a-view-versus-a-copy\n",
      "  df_a_travailler_3['runtime_exact'] = df_a_travailler_3[['runtimeMinutes', 'runtime']].max(axis = 1)\n"
     ]
    }
   ],
   "source": [
    "# Pour le restant des données, on conserve la valeur max des 2 colonnes\n",
    "\n",
    "df_a_travailler_3['runtime_exact'] = df_a_travailler_3[['runtimeMinutes', 'runtime']].max(axis = 1)\n",
    "df_a_garder_4 = df_a_travailler_3"
   ]
  },
  {
   "cell_type": "code",
   "execution_count": 62,
   "metadata": {},
   "outputs": [],
   "source": [
    "# On concatène tous les tableaux conservés\n",
    "\n",
    "df_final = pd.concat([df_a_garder_1, df_a_garder_2, df_a_garder_3, df_a_garder_4])"
   ]
  },
  {
   "cell_type": "code",
   "execution_count": 63,
   "metadata": {},
   "outputs": [],
   "source": [
    "solution = df_final.groupby('year_exact')['runtime_exact'].mean()"
   ]
  },
  {
   "cell_type": "code",
   "execution_count": 64,
   "metadata": {},
   "outputs": [
    {
     "data": {
      "text/plain": [
       "year_exact\n",
       "1874.0      1.000000\n",
       "1878.0      1.000000\n",
       "1885.0      1.000000\n",
       "1887.0      1.000000\n",
       "1888.0      1.000000\n",
       "             ...    \n",
       "2024.0     93.420741\n",
       "2025.0     92.701389\n",
       "2026.0    104.593750\n",
       "2027.0     72.000000\n",
       "2029.0    112.500000\n",
       "Name: runtime_exact, Length: 145, dtype: float64"
      ]
     },
     "execution_count": 64,
     "metadata": {},
     "output_type": "execute_result"
    }
   ],
   "source": [
    "solution"
   ]
  }
 ],
 "metadata": {
  "kernelspec": {
   "display_name": "base",
   "language": "python",
   "name": "python3"
  },
  "language_info": {
   "codemirror_mode": {
    "name": "ipython",
    "version": 3
   },
   "file_extension": ".py",
   "mimetype": "text/x-python",
   "name": "python",
   "nbconvert_exporter": "python",
   "pygments_lexer": "ipython3",
   "version": "3.12.4"
  }
 },
 "nbformat": 4,
 "nbformat_minor": 2
}
