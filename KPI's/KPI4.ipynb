{
 "cells": [
  {
   "cell_type": "markdown",
   "metadata": {},
   "source": [
    "L’âge moyen des acteurs.\n",
    "\n",
    "Est-ce qu'on calcule la moyenne des âges des acteurs lorsqu'ils tournent ou seulement l'âge qu'ils ont actuellement ?"
   ]
  },
  {
   "cell_type": "code",
   "execution_count": 39,
   "metadata": {},
   "outputs": [],
   "source": [
    "# IMPORTS\n",
    "\n",
    "import pandas as pd"
   ]
  },
  {
   "cell_type": "code",
   "execution_count": 40,
   "metadata": {},
   "outputs": [],
   "source": [
    "link = \"./BD/name.basics.tsv.gz\"\n",
    "df = pd.read_csv(link, compression = 'gzip', sep = '\\t')"
   ]
  },
  {
   "cell_type": "code",
   "execution_count": 41,
   "metadata": {},
   "outputs": [],
   "source": [
    "df_utile = df[~ ((df['birthYear'].isna()) | (df['birthYear'] == '\\\\N'))]\n",
    "df_utile = df_utile[(df_utile['primaryProfession'].str.contains('actor')) | (df_utile['birthYear'].str.contains('actress'))]"
   ]
  },
  {
   "cell_type": "code",
   "execution_count": 42,
   "metadata": {},
   "outputs": [],
   "source": [
    "df_utile['birthYear'] = pd.to_numeric(df_utile['birthYear'], downcast=\"integer\")\n",
    "df_utile['birthYear'] = pd.to_numeric(df_utile['birthYear'], downcast=\"integer\")"
   ]
  },
  {
   "cell_type": "code",
   "execution_count": 43,
   "metadata": {},
   "outputs": [],
   "source": [
    "df_utile['annee'] = 2024"
   ]
  },
  {
   "cell_type": "code",
   "execution_count": 44,
   "metadata": {},
   "outputs": [],
   "source": [
    "df_utile['age'] = df_utile['annee'] - df_utile['birthYear']"
   ]
  },
  {
   "cell_type": "code",
   "execution_count": 45,
   "metadata": {},
   "outputs": [],
   "source": [
    "df_vivant = df_utile[(df_utile['deathYear'].isna()) | (df_utile['deathYear'] == '\\\\N')]\n",
    "df_mort = df_utile[~ ((df_utile['deathYear'].isna()) | (df_utile['deathYear'] == '\\\\N'))]"
   ]
  },
  {
   "cell_type": "code",
   "execution_count": 46,
   "metadata": {},
   "outputs": [
    {
     "data": {
      "text/plain": [
       "53"
      ]
     },
     "execution_count": 46,
     "metadata": {},
     "output_type": "execute_result"
    }
   ],
   "source": [
    "int(df_vivant['age'].mean())"
   ]
  }
 ],
 "metadata": {
  "kernelspec": {
   "display_name": "base",
   "language": "python",
   "name": "python3"
  },
  "language_info": {
   "codemirror_mode": {
    "name": "ipython",
    "version": 3
   },
   "file_extension": ".py",
   "mimetype": "text/x-python",
   "name": "python",
   "nbconvert_exporter": "python",
   "pygments_lexer": "ipython3",
   "version": "3.12.4"
  }
 },
 "nbformat": 4,
 "nbformat_minor": 2
}
