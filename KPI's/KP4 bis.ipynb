{
 "cells": [
  {
   "cell_type": "code",
   "execution_count": 2,
   "metadata": {},
   "outputs": [],
   "source": [
    "# IMPORTS\n",
    "import pandas as pd\n",
    "import numpy as np"
   ]
  },
  {
   "cell_type": "markdown",
   "metadata": {},
   "source": [
    "L’âge moyen des acteurs.\n",
    "\n",
    "Est-ce qu'on calcule la moyenne des âges des acteurs lorsqu'ils tournent ou seulement l'âge qu'ils ont actuellement ?"
   ]
  },
  {
   "cell_type": "markdown",
   "metadata": {},
   "source": [
    "BASES A CHARGER"
   ]
  },
  {
   "cell_type": "code",
   "execution_count": 2,
   "metadata": {},
   "outputs": [
    {
     "name": "stderr",
     "output_type": "stream",
     "text": [
      "/var/folders/2b/18xblx_n4lv24wz932vjckrm0000gp/T/ipykernel_5198/2510743437.py:7: DtypeWarning: Columns (4) have mixed types. Specify dtype option on import or set low_memory=False.\n",
      "  df_film = pd.read_csv('BD/title.basics.tsv.gz', compression = 'gzip', sep = '\\t')\n"
     ]
    },
    {
     "data": {
      "text/plain": [
       "'\\ndf_acteur -> table des acteurs présents dans un film\\ndf_film -> table des films\\ndf_nom -> table des noms des acteurs\\n'"
      ]
     },
     "execution_count": 2,
     "metadata": {},
     "output_type": "execute_result"
    }
   ],
   "source": [
    "# On charge la bd title.principals\n",
    "df_acteur = pd.read_csv('BD/title.principals.tsv.gz', compression = 'gzip', sep = '\\t')\n",
    "df_acteur = df_acteur[(df_acteur['category'] == 'actor') | (df_acteur['category'] == 'actress') | (df_acteur['category'] == 'self')]\n",
    "\n",
    "# On charge la bd title.basics\n",
    "\n",
    "df_film = pd.read_csv('BD/title.basics.tsv.gz', compression = 'gzip', sep = '\\t')\n",
    "df_film = df_film[df_film['titleType'] == 'movie']\n",
    "\n",
    "# On charge la bd name.basics\n",
    " \n",
    "df_name_basics = pd.read_csv(\"./BD/name.basics.tsv.gz\", compression = 'gzip', sep = '\\t')\n",
    "\n",
    "'''\n",
    "df_acteur -> table des acteurs présents dans un film\n",
    "df_film -> table des films\n",
    "df_nom -> table des noms des acteurs\n",
    "'''"
   ]
  },
  {
   "cell_type": "markdown",
   "metadata": {},
   "source": [
    "MERGES"
   ]
  },
  {
   "cell_type": "code",
   "execution_count": 3,
   "metadata": {},
   "outputs": [],
   "source": [
    "# MERGE Acteurs et Films OUTER\n",
    "\n",
    "df_acteur_film_outer = pd.merge(df_acteur,\n",
    "                                df_film,\n",
    "                                how = 'outer',\n",
    "                                on = 'tconst') \n",
    "\n",
    "df_acteur_film_birth = pd.merge(df_acteur_film_outer,\n",
    "                                df_name_basics,\n",
    "                                how = 'outer',\n",
    "                                on = 'nconst') "
   ]
  },
  {
   "cell_type": "code",
   "execution_count": null,
   "metadata": {},
   "outputs": [],
   "source": [
    "# On supprime là où les données manquent pour le calcul\n",
    "\n",
    "df_acteur_film_birth = df_acteur_film_birth[~ ((df_acteur_film_birth['birthYear'].isna()) | (df_acteur_film_birth['birthYear'] == '\\\\N'))]\n",
    "df_acteur_film_birth = df_acteur_film_birth[~ ((df_acteur_film_birth['startYear'].isna()) | (df_acteur_film_birth['startYear'] == '\\\\N'))]"
   ]
  },
  {
   "cell_type": "code",
   "execution_count": null,
   "metadata": {},
   "outputs": [],
   "source": [
    "# On transforme le format des colonnes pour le calcul\n",
    "\n",
    "df_acteur_film_birth['birthYear'] = pd.to_numeric(df_acteur_film_birth['birthYear'], downcast=\"integer\")\n",
    "df_acteur_film_birth['startYear'] = pd.to_numeric(df_acteur_film_birth['startYear'], downcast=\"integer\")"
   ]
  },
  {
   "cell_type": "code",
   "execution_count": null,
   "metadata": {},
   "outputs": [],
   "source": [
    "# On calcule l'âge de l'acteur au moment du film\n",
    "\n",
    "df_acteur_film_birth['age'] = df_acteur_film_birth['startYear'] - df_acteur_film_birth['birthYear']"
   ]
  },
  {
   "cell_type": "code",
   "execution_count": null,
   "metadata": {},
   "outputs": [],
   "source": [
    "# SOLUTION\n",
    "\n",
    "df_acteur_film_birth['age'].mean()"
   ]
  }
 ],
 "metadata": {
  "kernelspec": {
   "display_name": "base",
   "language": "python",
   "name": "python3"
  },
  "language_info": {
   "codemirror_mode": {
    "name": "ipython",
    "version": 3
   },
   "file_extension": ".py",
   "mimetype": "text/x-python",
   "name": "python",
   "nbconvert_exporter": "python",
   "pygments_lexer": "ipython3",
   "version": "3.12.4"
  }
 },
 "nbformat": 4,
 "nbformat_minor": 2
}
