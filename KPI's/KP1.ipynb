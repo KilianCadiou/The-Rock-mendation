{
 "cells": [
  {
   "cell_type": "code",
   "execution_count": 2,
   "metadata": {},
   "outputs": [],
   "source": [
    "# IMPORTS\n",
    "import pandas as pd\n",
    "import numpy as np"
   ]
  },
  {
   "cell_type": "markdown",
   "metadata": {},
   "source": [
    "L’identification des acteurs les plus présents et les périodes associées\n",
    "\n",
    "Dans la table title.principals.tsv.gz on récupère toutes les lignes category == 'actor' \n",
    "\n",
    "On récupère de l'autre côté la table title.basics.tsv.gz avec que les films"
   ]
  },
  {
   "cell_type": "markdown",
   "metadata": {},
   "source": [
    "BASES A CHARGER"
   ]
  },
  {
   "cell_type": "code",
   "execution_count": 3,
   "metadata": {},
   "outputs": [],
   "source": [
    "# On charge la bd title.principals\n",
    "df_acteur = pd.read_csv('BD/title.principals.tsv.gz', compression = 'gzip', sep = '\\t')\n",
    "df_acteur = df_acteur[(df_acteur['category'] == 'actor') | (df_acteur['category'] == 'actress') | (df_acteur['category'] == 'self')]\n",
    "\n",
    "# On charge la bd title.basics\n",
    "\n",
    "df_film = pd.read_csv('BD/title.basics.tsv.gz', compression = 'gzip', sep = '\\t')\n",
    "df_film = df_film[df_film['titleType'] == 'movie']\n",
    "\n",
    "# On charge la bd name.basics\n",
    " \n",
    "df_nom = pd.read_csv('BD/name.basics.tsv.gz', compression = 'gzip', sep = '\\t')\n",
    "\n",
    "'''\n",
    "df_acteur -> table des acteurs présents dans un film\n",
    "df_film -> table des films\n",
    "df_nom -> table des noms des acteurs\n",
    "'''"
   ]
  },
  {
   "cell_type": "markdown",
   "metadata": {},
   "source": [
    "MERGES"
   ]
  },
  {
   "cell_type": "code",
   "execution_count": 9,
   "metadata": {},
   "outputs": [],
   "source": [
    "# MERGE Acteurs et Films INNER\n",
    "\n",
    "df_acteur_film_inner = pd.merge(df_acteur,\n",
    "                                df_film,\n",
    "                                how = 'inner',\n",
    "                                on = 'tconst') \n",
    "\n",
    "# MERGE Acteurs et Films OUTER\n",
    "\n",
    "df_acteur_film_outer = pd.merge(df_acteur,\n",
    "                                df_film,\n",
    "                                how = 'outer',\n",
    "                                on = 'tconst') "
   ]
  },
  {
   "cell_type": "markdown",
   "metadata": {},
   "source": [
    "Nombre d'apparitions"
   ]
  },
  {
   "cell_type": "code",
   "execution_count": 14,
   "metadata": {},
   "outputs": [],
   "source": [
    "# On compte le nombre d'occurences de chaque acteur dans ce nouveau df\n",
    "\n",
    "df_vc = df_acteur_film_inner['nconst'].value_counts()"
   ]
  },
  {
   "cell_type": "code",
   "execution_count": 15,
   "metadata": {},
   "outputs": [],
   "source": [
    "# On charge le df dans lequel le nom des acteurs est contenu\n",
    "# et on le merge avec notre df du nombre d'occurrences pour\n",
    "# obtenir un acteur et son nb d'occurence\n",
    "\n",
    "df_apparition = pd.merge(df_vc,\n",
    "                          df_nom,\n",
    "                          how = 'left',\n",
    "                          on = 'nconst') "
   ]
  },
  {
   "cell_type": "markdown",
   "metadata": {},
   "source": [
    "MIN et MAX de STARTYEAR"
   ]
  },
  {
   "cell_type": "code",
   "execution_count": 16,
   "metadata": {},
   "outputs": [],
   "source": [
    "# On supprime les lignes où StartYear est vide ou est égal à \\N\n",
    "\n",
    "df_acteur_film_outer = df_acteur_film_outer[~(df_acteur_film_outer['startYear'] == '\\\\N')]\n",
    "df_acteur_film_outer = df_acteur_film_outer[~(df_acteur_film_outer['startYear'].isna())]\n",
    "\n",
    "# On supprime les lignes où NCONST est vide\n",
    "\n",
    "df_acteur_film_outer = df_acteur_film_outer[~(df_acteur_film_outer['nconst'].isna())]"
   ]
  },
  {
   "cell_type": "code",
   "execution_count": 18,
   "metadata": {},
   "outputs": [],
   "source": [
    "# On crée deux colonnes: une avec l'année minimum et l'autre max\n",
    "\n",
    "df_min = df_acteur_film_outer.groupby('nconst')['startYear'].min()\n",
    "df_max = df_acteur_film_outer.groupby('nconst')['startYear'].max()"
   ]
  },
  {
   "cell_type": "code",
   "execution_count": 19,
   "metadata": {},
   "outputs": [],
   "source": [
    "# On merge les dates MIN et MAX de StartYear\n",
    "\n",
    "df_dates = pd.merge(df_max,\n",
    "                    df_min,\n",
    "                    how = 'outer',\n",
    "                    on = 'nconst') "
   ]
  },
  {
   "cell_type": "code",
   "execution_count": 38,
   "metadata": {},
   "outputs": [],
   "source": [
    "# On merge df_apparition avec le Min de StartYear et le Max de StartYear\n",
    "\n",
    "df_kpi1 = pd.merge(df_apparition,\n",
    "                   df_dates,\n",
    "                   how = 'left',\n",
    "                   on = 'nconst') "
   ]
  },
  {
   "cell_type": "code",
   "execution_count": 39,
   "metadata": {},
   "outputs": [],
   "source": [
    "# On rename des colonnes pour y voir clair\n",
    "\n",
    "df_kpi1 = df_kpi1.rename(columns = {'startYear_y' : 'Premier film','startYear_x' : 'Dernier film'})\n",
    "\n",
    "# On garde uniquement les colonnes nécessaires\n",
    "\n",
    "df_kpi1 = df_kpi1[['primaryName', 'count', 'Premier film', 'Dernier film']]\n",
    "\n",
    "# On rename les colonnes conservées\n",
    "\n",
    "df_kpi1 = df_kpi1.rename(columns = {'primaryName' : 'Acteur/Actrice','count' : 'Nombre de films'})"
   ]
  },
  {
   "cell_type": "code",
   "execution_count": 40,
   "metadata": {},
   "outputs": [
    {
     "data": {
      "text/html": [
       "<div>\n",
       "<style scoped>\n",
       "    .dataframe tbody tr th:only-of-type {\n",
       "        vertical-align: middle;\n",
       "    }\n",
       "\n",
       "    .dataframe tbody tr th {\n",
       "        vertical-align: top;\n",
       "    }\n",
       "\n",
       "    .dataframe thead th {\n",
       "        text-align: right;\n",
       "    }\n",
       "</style>\n",
       "<table border=\"1\" class=\"dataframe\">\n",
       "  <thead>\n",
       "    <tr style=\"text-align: right;\">\n",
       "      <th></th>\n",
       "      <th>Acteur/Actrice</th>\n",
       "      <th>Nombre de films</th>\n",
       "      <th>Premier film</th>\n",
       "      <th>Dernier film</th>\n",
       "    </tr>\n",
       "  </thead>\n",
       "  <tbody>\n",
       "    <tr>\n",
       "      <th>0</th>\n",
       "      <td>Brahmanandam</td>\n",
       "      <td>1131</td>\n",
       "      <td>1987</td>\n",
       "      <td>2025</td>\n",
       "    </tr>\n",
       "    <tr>\n",
       "      <th>1</th>\n",
       "      <td>Jagathy Sreekumar</td>\n",
       "      <td>661</td>\n",
       "      <td>1957</td>\n",
       "      <td>2023</td>\n",
       "    </tr>\n",
       "    <tr>\n",
       "      <th>2</th>\n",
       "      <td>Adoor Bhasi</td>\n",
       "      <td>626</td>\n",
       "      <td>1953</td>\n",
       "      <td>1991</td>\n",
       "    </tr>\n",
       "    <tr>\n",
       "      <th>3</th>\n",
       "      <td>Paquito Diaz</td>\n",
       "      <td>622</td>\n",
       "      <td>1958</td>\n",
       "      <td>2005</td>\n",
       "    </tr>\n",
       "    <tr>\n",
       "      <th>4</th>\n",
       "      <td>Eddie Garcia</td>\n",
       "      <td>616</td>\n",
       "      <td>1949</td>\n",
       "      <td>2019</td>\n",
       "    </tr>\n",
       "    <tr>\n",
       "      <th>...</th>\n",
       "      <td>...</td>\n",
       "      <td>...</td>\n",
       "      <td>...</td>\n",
       "      <td>...</td>\n",
       "    </tr>\n",
       "    <tr>\n",
       "      <th>1445425</th>\n",
       "      <td>Kayleigh Lawrence</td>\n",
       "      <td>1</td>\n",
       "      <td>2009</td>\n",
       "      <td>2009</td>\n",
       "    </tr>\n",
       "    <tr>\n",
       "      <th>1445426</th>\n",
       "      <td>Chelsea Dixon</td>\n",
       "      <td>1</td>\n",
       "      <td>2009</td>\n",
       "      <td>2009</td>\n",
       "    </tr>\n",
       "    <tr>\n",
       "      <th>1445427</th>\n",
       "      <td>Luke Emsley</td>\n",
       "      <td>1</td>\n",
       "      <td>2009</td>\n",
       "      <td>2009</td>\n",
       "    </tr>\n",
       "    <tr>\n",
       "      <th>1445428</th>\n",
       "      <td>Teijun Ogawa</td>\n",
       "      <td>1</td>\n",
       "      <td>2008</td>\n",
       "      <td>2008</td>\n",
       "    </tr>\n",
       "    <tr>\n",
       "      <th>1445429</th>\n",
       "      <td>Bob Wolfenson</td>\n",
       "      <td>1</td>\n",
       "      <td>2013</td>\n",
       "      <td>2013</td>\n",
       "    </tr>\n",
       "  </tbody>\n",
       "</table>\n",
       "<p>1445430 rows × 4 columns</p>\n",
       "</div>"
      ],
      "text/plain": [
       "            Acteur/Actrice  Nombre de films Premier film Dernier film\n",
       "0             Brahmanandam             1131         1987         2025\n",
       "1        Jagathy Sreekumar              661         1957         2023\n",
       "2              Adoor Bhasi              626         1953         1991\n",
       "3             Paquito Diaz              622         1958         2005\n",
       "4             Eddie Garcia              616         1949         2019\n",
       "...                    ...              ...          ...          ...\n",
       "1445425  Kayleigh Lawrence                1         2009         2009\n",
       "1445426      Chelsea Dixon                1         2009         2009\n",
       "1445427        Luke Emsley                1         2009         2009\n",
       "1445428       Teijun Ogawa                1         2008         2008\n",
       "1445429      Bob Wolfenson                1         2013         2013\n",
       "\n",
       "[1445430 rows x 4 columns]"
      ]
     },
     "execution_count": 40,
     "metadata": {},
     "output_type": "execute_result"
    }
   ],
   "source": [
    "# Résultat final\n",
    "\n",
    "df_kpi1"
   ]
  }
 ],
 "metadata": {
  "kernelspec": {
   "display_name": "base",
   "language": "python",
   "name": "python3"
  },
  "language_info": {
   "codemirror_mode": {
    "name": "ipython",
    "version": 3
   },
   "file_extension": ".py",
   "mimetype": "text/x-python",
   "name": "python",
   "nbconvert_exporter": "python",
   "pygments_lexer": "ipython3",
   "version": "3.12.4"
  }
 },
 "nbformat": 4,
 "nbformat_minor": 2
}
