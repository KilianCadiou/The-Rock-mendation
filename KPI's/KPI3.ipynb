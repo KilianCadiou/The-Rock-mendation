{
 "cells": [
  {
   "cell_type": "markdown",
   "metadata": {},
   "source": [
    "La comparaison entre les acteurs présents au cinéma et dans les séries."
   ]
  },
  {
   "cell_type": "code",
   "execution_count": 1,
   "metadata": {},
   "outputs": [],
   "source": [
    "# IMPORTS\n",
    "\n",
    "import pandas as pd"
   ]
  },
  {
   "cell_type": "code",
   "execution_count": 2,
   "metadata": {},
   "outputs": [
    {
     "name": "stderr",
     "output_type": "stream",
     "text": [
      "/var/folders/2b/18xblx_n4lv24wz932vjckrm0000gp/T/ipykernel_4151/892436110.py:8: DtypeWarning: Columns (4) have mixed types. Specify dtype option on import or set low_memory=False.\n",
      "  df_title_basics= pd.read_csv(link, compression = 'gzip', sep = '\\t')\n"
     ]
    }
   ],
   "source": [
    "link = \"./BD/name.basics.tsv.gz\"\n",
    "df_name_basics = pd.read_csv(link, compression = 'gzip', sep = '\\t')\n",
    "\n",
    "link = \"./BD/title.principals.tsv.gz\"\n",
    "df_title_principals= pd.read_csv(link, compression = 'gzip', sep = '\\t')\n",
    "\n",
    "link = \"./BD/title.basics.tsv.gz\"\n",
    "df_title_basics= pd.read_csv(link, compression = 'gzip', sep = '\\t')"
   ]
  },
  {
   "cell_type": "code",
   "execution_count": 3,
   "metadata": {},
   "outputs": [],
   "source": [
    "df_actor = pd.concat([df_title_principals[df_title_principals['category'] == 'actor'],\n",
    "                                 df_title_principals[df_title_principals['category'] == 'actress'],\n",
    "                                 df_title_principals[df_title_principals['category'] == 'self']])\n",
    "\n",
    "df_title_principals = 0\n",
    "\n",
    "df_movie_serie = pd.concat([df_title_basics[df_title_basics['titleType'] == 'tvEpisode'],\n",
    "                                 df_title_basics[df_title_basics['titleType'] == 'tvSeries'],\n",
    "                                 df_title_basics[df_title_basics['titleType'] == 'movie']])\n",
    "\n",
    "df_title_basics = 0\n",
    "\n",
    "df_name_actor = pd.merge(df_actor,\n",
    "                         df_name_basics,\n",
    "                         on = 'nconst',\n",
    "                         how = 'left')\n",
    "\n",
    "df_actor = 0\n",
    "df_name_basics = 0\n",
    "\n",
    "df_total = pd.merge(df_name_actor,\n",
    "                    df_movie_serie,\n",
    "                    how = 'left',\n",
    "                    on = 'tconst')\n",
    "\n",
    "df_movie_serie = 0\n",
    "df_name_actor = 0"
   ]
  },
  {
   "cell_type": "code",
   "execution_count": 4,
   "metadata": {},
   "outputs": [],
   "source": [
    "df_total = df_total[~(df_total['titleType'].isna() == True)]\n",
    "\n",
    "df_total['titleType'] = df_total['titleType'].replace('tvEpisode', 'TV')\n",
    "df_total['titleType'] = df_total['titleType'].replace('tvSeries', 'TV')\n",
    "\n",
    "df_type = df_total['titleType']\n",
    "\n",
    "dummies = pd.get_dummies(df_type)\n",
    "\n",
    "df_total2 = pd.concat([df_total, dummies], axis = 1)\n",
    "\n",
    "df_total = 0\n",
    "df_type = 0\n",
    "dummies = 0"
   ]
  },
  {
   "cell_type": "code",
   "execution_count": 8,
   "metadata": {},
   "outputs": [],
   "source": [
    "df_total, df_name_actor, df_movie_serie, df_actor, df_name_basics, df_title_principals, df_title_basics = 0, 0, 0, 0, 0, 0, 0"
   ]
  },
  {
   "cell_type": "code",
   "execution_count": 17,
   "metadata": {},
   "outputs": [],
   "source": [
    "df_apparitions = df_total2.groupby('nconst').sum('movie')\n",
    "\n",
    "df_total2 = 0\n",
    "\n",
    "df_total3 = pd.merge(df_total2,\n",
    "                     df_apparitions,\n",
    "                     how = 'left',\n",
    "                     on = 'nconst')\n",
    "\n",
    "df_apparitions = 0"
   ]
  },
  {
   "cell_type": "code",
   "execution_count": 24,
   "metadata": {},
   "outputs": [],
   "source": [
    "df_final = df_total3[['tconst', 'nconst', 'category', 'primaryName', 'birthYear', 'deathYear', 'titleType', 'primaryTitle', 'isAdult', 'startYear', 'runtimeMinutes', 'genres', 'TV_y', 'movie_y']]\n",
    "\n",
    "df_final[['birthYear', 'deathYear']] = df_final[['birthYear', 'deathYear']].replace('\\\\N', None)\n",
    "df_final[['birthYear', 'deathYear']] = df_final[['birthYear', 'deathYear']].apply(pd.to_numeric)\n"
   ]
  },
  {
   "cell_type": "code",
   "execution_count": null,
   "metadata": {},
   "outputs": [],
   "source": [
    "df_total3 = 0\n",
    "df_acteur_film = df_final[df_final['TV_y'] == 0]\n",
    "df_acteur_TV = df_final[df_final['movie_y'] == 0]\n",
    "df_acteur_deux = df_final[(df_final['movie_y'] > 0) & (df_final['TV_y'] > 0)]"
   ]
  },
  {
   "cell_type": "code",
   "execution_count": 34,
   "metadata": {},
   "outputs": [
    {
     "data": {
      "text/plain": [
       "(1892793, 14791638, 27230399, 43914830)"
      ]
     },
     "execution_count": 34,
     "metadata": {},
     "output_type": "execute_result"
    }
   ],
   "source": [
    "# % d'acteurs ayant joué uniquement au cinéma\n",
    "pourcent_cinema = len(df_final[df_final['TV_y'] == 0]) / len(df_final) * 100\n",
    "print(f'{round(pourcent_cinema, 2)} % des acteurs ont joué uniquement au cinéma')\n",
    "\n",
    "# % d'acteurs ayant joué uniquement à la télé\n",
    "pourcent_tele = len(df_final[df_final['movie_y'] == 0]) / len(df_final) * 100\n",
    "print(f'{round(pourcent_tele, 2)} % des acteurs ont joué uniquement à la télévision')\n",
    "\n",
    "# % d'acteurs ayant été dans les deux\n",
    "pourcent_deux = len(df_final[(df_final['movie_y'] > 0) & (df_final['TV_y'] > 0)]) / len(df_final) * 100\n",
    "print(f'{round(pourcent_deux, 2)} % des acteurs ont joué dans les deux')\n",
    "\n",
    "df_final = 0"
   ]
  },
  {
   "cell_type": "code",
   "execution_count": 65,
   "metadata": {},
   "outputs": [
    {
     "name": "stderr",
     "output_type": "stream",
     "text": [
      "/var/folders/2b/18xblx_n4lv24wz932vjckrm0000gp/T/ipykernel_4151/960138491.py:1: SettingWithCopyWarning: \n",
      "A value is trying to be set on a copy of a slice from a DataFrame.\n",
      "Try using .loc[row_indexer,col_indexer] = value instead\n",
      "\n",
      "See the caveats in the documentation: https://pandas.pydata.org/pandas-docs/stable/user_guide/indexing.html#returning-a-view-versus-a-copy\n",
      "  df_acteur_film[['birthYear', 'deathYear']] = df_acteur_film[['birthYear', 'deathYear']].apply(pd.to_numeric)\n",
      "/var/folders/2b/18xblx_n4lv24wz932vjckrm0000gp/T/ipykernel_4151/960138491.py:2: SettingWithCopyWarning: \n",
      "A value is trying to be set on a copy of a slice from a DataFrame.\n",
      "Try using .loc[row_indexer,col_indexer] = value instead\n",
      "\n",
      "See the caveats in the documentation: https://pandas.pydata.org/pandas-docs/stable/user_guide/indexing.html#returning-a-view-versus-a-copy\n",
      "  df_acteur_TV[['birthYear', 'deathYear']] = df_acteur_TV[['birthYear', 'deathYear']].apply(pd.to_numeric)\n",
      "/var/folders/2b/18xblx_n4lv24wz932vjckrm0000gp/T/ipykernel_4151/960138491.py:3: SettingWithCopyWarning: \n",
      "A value is trying to be set on a copy of a slice from a DataFrame.\n",
      "Try using .loc[row_indexer,col_indexer] = value instead\n",
      "\n",
      "See the caveats in the documentation: https://pandas.pydata.org/pandas-docs/stable/user_guide/indexing.html#returning-a-view-versus-a-copy\n",
      "  df_acteur_deux[['birthYear', 'deathYear']] = df_acteur_deux[['birthYear', 'deathYear']].apply(pd.to_numeric)\n"
     ]
    },
    {
     "name": "stdout",
     "output_type": "stream",
     "text": [
      "<class 'pandas.core.frame.DataFrame'>\n",
      "Index: 1892793 entries, 0 to 43914810\n",
      "Data columns (total 14 columns):\n",
      " #   Column          Dtype  \n",
      "---  ------          -----  \n",
      " 0   tconst          object \n",
      " 1   nconst          object \n",
      " 2   category        object \n",
      " 3   primaryName     object \n",
      " 4   birthYear       float64\n",
      " 5   deathYear       float64\n",
      " 6   titleType       object \n",
      " 7   primaryTitle    object \n",
      " 8   isAdult         object \n",
      " 9   startYear       object \n",
      " 10  runtimeMinutes  float64\n",
      " 11  genres          object \n",
      " 12  TV_y            int64  \n",
      " 13  movie_y         int64  \n",
      "dtypes: float64(3), int64(2), object(9)\n",
      "memory usage: 216.6+ MB\n"
     ]
    }
   ],
   "source": [
    "df_acteur_film[['birthYear', 'deathYear']] = df_acteur_film[['birthYear', 'deathYear']].apply(pd.to_numeric)\n",
    "df_acteur_TV[['birthYear', 'deathYear']] = df_acteur_TV[['birthYear', 'deathYear']].apply(pd.to_numeric)\n",
    "df_acteur_deux[['birthYear', 'deathYear']] = df_acteur_deux[['birthYear', 'deathYear']].apply(pd.to_numeric)"
   ]
  },
  {
   "cell_type": "code",
   "execution_count": 74,
   "metadata": {},
   "outputs": [
    {
     "name": "stdout",
     "output_type": "stream",
     "text": [
      "1914.0 1918.1967584190952\n",
      "1969.0 1964.954835780069\n",
      "1964.0 1960.0345983622726\n"
     ]
    }
   ],
   "source": [
    "print(df_acteur_film['birthYear'].median(), df_acteur_film['birthYear'].mean())\n",
    "print(df_acteur_TV['birthYear'].median(), df_acteur_TV['birthYear'].mean())\n",
    "print(df_acteur_deux['birthYear'].median(), df_acteur_deux['birthYear'].mean())"
   ]
  },
  {
   "cell_type": "code",
   "execution_count": 92,
   "metadata": {},
   "outputs": [
    {
     "name": "stdout",
     "output_type": "stream",
     "text": [
      "1957.0 1954.3771964275325\n",
      "1974.0 1972.3980696926692\n",
      "1970.0 1968.401185958527\n"
     ]
    }
   ],
   "source": [
    "print(df_acteur_film[df_acteur_film['deathYear'].isna() == True]['birthYear'].median(), df_acteur_film[df_acteur_film['deathYear'].isna() == True]['birthYear'].mean())\n",
    "print(df_acteur_TV[df_acteur_TV['deathYear'].isna() == True]['birthYear'].median(), df_acteur_TV[df_acteur_TV['deathYear'].isna() == True]['birthYear'].mean())\n",
    "print(df_acteur_deux[df_acteur_deux['deathYear'].isna() == True]['birthYear'].median(), df_acteur_deux[df_acteur_deux['deathYear'].isna() == True]['birthYear'].mean())"
   ]
  }
 ],
 "metadata": {
  "kernelspec": {
   "display_name": "base",
   "language": "python",
   "name": "python3"
  },
  "language_info": {
   "codemirror_mode": {
    "name": "ipython",
    "version": 3
   },
   "file_extension": ".py",
   "mimetype": "text/x-python",
   "name": "python",
   "nbconvert_exporter": "python",
   "pygments_lexer": "ipython3",
   "version": "3.12.4"
  }
 },
 "nbformat": 4,
 "nbformat_minor": 2
}
